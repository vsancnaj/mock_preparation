{
 "cells": [
  {
   "cell_type": "code",
   "execution_count": 1,
   "metadata": {},
   "outputs": [],
   "source": [
    "import pandas as pd\n",
    "import numpy as np\n",
    "import matplotlib.pyplot as plt\n",
    "import seaborn as sns"
   ]
  },
  {
   "cell_type": "code",
   "execution_count": 2,
   "metadata": {},
   "outputs": [],
   "source": [
    "path1 = 'takehome_user_engagement.csv'\n",
    "path2 = 'takehome_users.csv'\n",
    "\n",
    "usage_df = pd.read_csv(path1)\n",
    "user_df = pd.read_csv(path2, encoding='latin1')"
   ]
  },
  {
   "cell_type": "markdown",
   "metadata": {},
   "source": [
    "## Data on User Engagement"
   ]
  },
  {
   "cell_type": "code",
   "execution_count": 3,
   "metadata": {},
   "outputs": [
    {
     "data": {
      "text/html": [
       "<div>\n",
       "<style scoped>\n",
       "    .dataframe tbody tr th:only-of-type {\n",
       "        vertical-align: middle;\n",
       "    }\n",
       "\n",
       "    .dataframe tbody tr th {\n",
       "        vertical-align: top;\n",
       "    }\n",
       "\n",
       "    .dataframe thead th {\n",
       "        text-align: right;\n",
       "    }\n",
       "</style>\n",
       "<table border=\"1\" class=\"dataframe\">\n",
       "  <thead>\n",
       "    <tr style=\"text-align: right;\">\n",
       "      <th></th>\n",
       "      <th>time_stamp</th>\n",
       "      <th>user_id</th>\n",
       "      <th>visited</th>\n",
       "    </tr>\n",
       "  </thead>\n",
       "  <tbody>\n",
       "    <tr>\n",
       "      <th>0</th>\n",
       "      <td>2014-04-22 03:53:30</td>\n",
       "      <td>1</td>\n",
       "      <td>1</td>\n",
       "    </tr>\n",
       "    <tr>\n",
       "      <th>1</th>\n",
       "      <td>2013-11-15 03:45:04</td>\n",
       "      <td>2</td>\n",
       "      <td>1</td>\n",
       "    </tr>\n",
       "    <tr>\n",
       "      <th>2</th>\n",
       "      <td>2013-11-29 03:45:04</td>\n",
       "      <td>2</td>\n",
       "      <td>1</td>\n",
       "    </tr>\n",
       "    <tr>\n",
       "      <th>3</th>\n",
       "      <td>2013-12-09 03:45:04</td>\n",
       "      <td>2</td>\n",
       "      <td>1</td>\n",
       "    </tr>\n",
       "    <tr>\n",
       "      <th>4</th>\n",
       "      <td>2013-12-25 03:45:04</td>\n",
       "      <td>2</td>\n",
       "      <td>1</td>\n",
       "    </tr>\n",
       "  </tbody>\n",
       "</table>\n",
       "</div>"
      ],
      "text/plain": [
       "            time_stamp  user_id  visited\n",
       "0  2014-04-22 03:53:30        1        1\n",
       "1  2013-11-15 03:45:04        2        1\n",
       "2  2013-11-29 03:45:04        2        1\n",
       "3  2013-12-09 03:45:04        2        1\n",
       "4  2013-12-25 03:45:04        2        1"
      ]
     },
     "execution_count": 3,
     "metadata": {},
     "output_type": "execute_result"
    }
   ],
   "source": [
    "# has a row for each day that a user logged into the product\n",
    "usage_df.head()"
   ]
  },
  {
   "cell_type": "code",
   "execution_count": 4,
   "metadata": {},
   "outputs": [
    {
     "name": "stdout",
     "output_type": "stream",
     "text": [
      "<class 'pandas.core.frame.DataFrame'>\n",
      "RangeIndex: 207917 entries, 0 to 207916\n",
      "Data columns (total 3 columns):\n",
      " #   Column      Non-Null Count   Dtype \n",
      "---  ------      --------------   ----- \n",
      " 0   time_stamp  207917 non-null  object\n",
      " 1   user_id     207917 non-null  int64 \n",
      " 2   visited     207917 non-null  int64 \n",
      "dtypes: int64(2), object(1)\n",
      "memory usage: 4.8+ MB\n"
     ]
    }
   ],
   "source": [
    "usage_df.info()"
   ]
  },
  {
   "cell_type": "code",
   "execution_count": 5,
   "metadata": {},
   "outputs": [
    {
     "data": {
      "text/plain": [
       "visited\n",
       "1    207917\n",
       "Name: count, dtype: int64"
      ]
     },
     "execution_count": 5,
     "metadata": {},
     "output_type": "execute_result"
    }
   ],
   "source": [
    "# there is no need for the visited column\n",
    "usage_df['visited'].value_counts()"
   ]
  },
  {
   "cell_type": "code",
   "execution_count": 6,
   "metadata": {},
   "outputs": [],
   "source": [
    "# we will drop the column\n",
    "usage_df.drop(columns='visited', inplace=True)"
   ]
  },
  {
   "cell_type": "code",
   "execution_count": 7,
   "metadata": {},
   "outputs": [
    {
     "data": {
      "text/html": [
       "<div>\n",
       "<style scoped>\n",
       "    .dataframe tbody tr th:only-of-type {\n",
       "        vertical-align: middle;\n",
       "    }\n",
       "\n",
       "    .dataframe tbody tr th {\n",
       "        vertical-align: top;\n",
       "    }\n",
       "\n",
       "    .dataframe thead th {\n",
       "        text-align: right;\n",
       "    }\n",
       "</style>\n",
       "<table border=\"1\" class=\"dataframe\">\n",
       "  <thead>\n",
       "    <tr style=\"text-align: right;\">\n",
       "      <th></th>\n",
       "      <th>time_stamp</th>\n",
       "      <th>user_id</th>\n",
       "    </tr>\n",
       "  </thead>\n",
       "  <tbody>\n",
       "  </tbody>\n",
       "</table>\n",
       "</div>"
      ],
      "text/plain": [
       "Empty DataFrame\n",
       "Columns: [time_stamp, user_id]\n",
       "Index: []"
      ]
     },
     "execution_count": 7,
     "metadata": {},
     "output_type": "execute_result"
    }
   ],
   "source": [
    "# find duplicated rows\n",
    "usage_df[usage_df.duplicated(keep=False)]"
   ]
  },
  {
   "cell_type": "code",
   "execution_count": 8,
   "metadata": {},
   "outputs": [
    {
     "data": {
      "text/plain": [
       "time_stamp    0\n",
       "user_id       0\n",
       "dtype: int64"
      ]
     },
     "execution_count": 8,
     "metadata": {},
     "output_type": "execute_result"
    }
   ],
   "source": [
    "# check na values\n",
    "usage_df.isna().sum()"
   ]
  },
  {
   "cell_type": "code",
   "execution_count": 9,
   "metadata": {},
   "outputs": [
    {
     "data": {
      "text/html": [
       "<div>\n",
       "<style scoped>\n",
       "    .dataframe tbody tr th:only-of-type {\n",
       "        vertical-align: middle;\n",
       "    }\n",
       "\n",
       "    .dataframe tbody tr th {\n",
       "        vertical-align: top;\n",
       "    }\n",
       "\n",
       "    .dataframe thead th {\n",
       "        text-align: right;\n",
       "    }\n",
       "</style>\n",
       "<table border=\"1\" class=\"dataframe\">\n",
       "  <thead>\n",
       "    <tr style=\"text-align: right;\">\n",
       "      <th></th>\n",
       "      <th>time_stamp</th>\n",
       "      <th>user_id</th>\n",
       "    </tr>\n",
       "  </thead>\n",
       "  <tbody>\n",
       "    <tr>\n",
       "      <th>11973</th>\n",
       "      <td>2012-06-15 16:04:36</td>\n",
       "      <td>728</td>\n",
       "    </tr>\n",
       "    <tr>\n",
       "      <th>11974</th>\n",
       "      <td>2012-06-16 16:04:36</td>\n",
       "      <td>728</td>\n",
       "    </tr>\n",
       "    <tr>\n",
       "      <th>11975</th>\n",
       "      <td>2012-06-17 16:04:36</td>\n",
       "      <td>728</td>\n",
       "    </tr>\n",
       "    <tr>\n",
       "      <th>110496</th>\n",
       "      <td>2012-06-21 02:05:25</td>\n",
       "      <td>6171</td>\n",
       "    </tr>\n",
       "    <tr>\n",
       "      <th>26827</th>\n",
       "      <td>2012-06-21 21:58:33</td>\n",
       "      <td>1693</td>\n",
       "    </tr>\n",
       "    <tr>\n",
       "      <th>...</th>\n",
       "      <td>...</td>\n",
       "      <td>...</td>\n",
       "    </tr>\n",
       "    <tr>\n",
       "      <th>98415</th>\n",
       "      <td>2014-06-04 23:28:26</td>\n",
       "      <td>5378</td>\n",
       "    </tr>\n",
       "    <tr>\n",
       "      <th>137644</th>\n",
       "      <td>2014-06-04 23:30:50</td>\n",
       "      <td>7859</td>\n",
       "    </tr>\n",
       "    <tr>\n",
       "      <th>162633</th>\n",
       "      <td>2014-06-04 23:34:04</td>\n",
       "      <td>9325</td>\n",
       "    </tr>\n",
       "    <tr>\n",
       "      <th>168409</th>\n",
       "      <td>2014-06-04 23:46:31</td>\n",
       "      <td>9558</td>\n",
       "    </tr>\n",
       "    <tr>\n",
       "      <th>6053</th>\n",
       "      <td>2014-06-04 23:56:26</td>\n",
       "      <td>341</td>\n",
       "    </tr>\n",
       "  </tbody>\n",
       "</table>\n",
       "<p>161424 rows × 2 columns</p>\n",
       "</div>"
      ],
      "text/plain": [
       "                time_stamp  user_id\n",
       "11973  2012-06-15 16:04:36      728\n",
       "11974  2012-06-16 16:04:36      728\n",
       "11975  2012-06-17 16:04:36      728\n",
       "110496 2012-06-21 02:05:25     6171\n",
       "26827  2012-06-21 21:58:33     1693\n",
       "...                    ...      ...\n",
       "98415  2014-06-04 23:28:26     5378\n",
       "137644 2014-06-04 23:30:50     7859\n",
       "162633 2014-06-04 23:34:04     9325\n",
       "168409 2014-06-04 23:46:31     9558\n",
       "6053   2014-06-04 23:56:26      341\n",
       "\n",
       "[161424 rows x 2 columns]"
      ]
     },
     "execution_count": 9,
     "metadata": {},
     "output_type": "execute_result"
    }
   ],
   "source": [
    "# Grouping by time frequecy of 7 days \n",
    "\n",
    "usage_copy = usage_df.copy()\n",
    "usage_copy['time_stamp'] = pd.to_datetime(usage_copy['time_stamp'])\n",
    "groups = usage_copy.groupby(pd.Grouper(key='time_stamp', freq='7D'))\n",
    "\n",
    "# Initialize an empty list to store the DataFrames for each 7-day period\n",
    "period_dfs = []\n",
    "\n",
    "# Iterate over the groups and extract the corresponding DataFrames\n",
    "for period, group_df in groups:\n",
    "    # Count the number of logins for each user in the current period\n",
    "    login_counts = group_df.groupby('user_id').size()\n",
    "    # Filter the users who logged in 3 or more times\n",
    "    users_with_3_or_more_logins = login_counts[login_counts >= 3].index\n",
    "    # Filter the original DataFrame to include only these users for the current period\n",
    "    filtered_df = group_df[group_df['user_id'].isin(users_with_3_or_more_logins)]\n",
    "    # Append the filtered DataFrame to the list\n",
    "    period_dfs.append(filtered_df)\n",
    "# Concatenate the DataFrames into a single DataFrame\n",
    "resample_df = pd.concat(period_dfs)\n",
    "resample_df"
   ]
  },
  {
   "cell_type": "code",
   "execution_count": 10,
   "metadata": {},
   "outputs": [
    {
     "name": "stdout",
     "output_type": "stream",
     "text": [
      "(46493, 2)\n"
     ]
    }
   ],
   "source": [
    "# Creating a new data frame of non-adopted users\n",
    "# Resample the DataFrame into 7-day periods and obtain the groups\n",
    "groups = usage_copy.groupby(pd.Grouper(key='time_stamp', freq='7D'))\n",
    "\n",
    "# Initialize an empty list to store the DataFrames for each 7-day period\n",
    "period_dfs = []\n",
    "\n",
    "# Iterate over the groups and extract the corresponding DataFrames\n",
    "for period, group_df in groups:\n",
    "    # Count the number of logins for each user in the current period\n",
    "    login_counts = group_df.groupby('user_id').size()\n",
    "    # Filter the users who logged in less than 3 times\n",
    "    non_adopted_users = login_counts[login_counts < 3].index\n",
    "    # Filter the original DataFrame to include only these users for the current period\n",
    "    filtered_df = group_df[group_df['user_id'].isin(non_adopted_users)]\n",
    "    # Append the filtered DataFrame to the list\n",
    "    period_dfs.append(filtered_df)\n",
    "\n",
    "# Concatenate the DataFrames into a single DataFrame\n",
    "resample_not_adopted = pd.concat(period_dfs)\n",
    "print(resample_not_adopted.shape)"
   ]
  },
  {
   "cell_type": "code",
   "execution_count": 11,
   "metadata": {},
   "outputs": [
    {
     "name": "stdout",
     "output_type": "stream",
     "text": [
      "(11520, 2)\n"
     ]
    }
   ],
   "source": [
    "# Filter the original DataFrame to exclude adopted users\n",
    "resample_not_adopted = resample_not_adopted[~resample_not_adopted['user_id'].isin(resample_df['user_id'].unique())]\n",
    "print(resample_not_adopted.shape)"
   ]
  },
  {
   "cell_type": "markdown",
   "metadata": {},
   "source": [
    "## Data on Users Who Signed Up"
   ]
  },
  {
   "cell_type": "code",
   "execution_count": 12,
   "metadata": {},
   "outputs": [
    {
     "data": {
      "text/html": [
       "<div>\n",
       "<style scoped>\n",
       "    .dataframe tbody tr th:only-of-type {\n",
       "        vertical-align: middle;\n",
       "    }\n",
       "\n",
       "    .dataframe tbody tr th {\n",
       "        vertical-align: top;\n",
       "    }\n",
       "\n",
       "    .dataframe thead th {\n",
       "        text-align: right;\n",
       "    }\n",
       "</style>\n",
       "<table border=\"1\" class=\"dataframe\">\n",
       "  <thead>\n",
       "    <tr style=\"text-align: right;\">\n",
       "      <th></th>\n",
       "      <th>object_id</th>\n",
       "      <th>creation_time</th>\n",
       "      <th>name</th>\n",
       "      <th>email</th>\n",
       "      <th>creation_source</th>\n",
       "      <th>last_session_creation_time</th>\n",
       "      <th>opted_in_to_mailing_list</th>\n",
       "      <th>enabled_for_marketing_drip</th>\n",
       "      <th>org_id</th>\n",
       "      <th>invited_by_user_id</th>\n",
       "    </tr>\n",
       "  </thead>\n",
       "  <tbody>\n",
       "    <tr>\n",
       "      <th>0</th>\n",
       "      <td>1</td>\n",
       "      <td>2014-04-22 03:53:30</td>\n",
       "      <td>Clausen August</td>\n",
       "      <td>AugustCClausen@yahoo.com</td>\n",
       "      <td>GUEST_INVITE</td>\n",
       "      <td>1.398139e+09</td>\n",
       "      <td>1</td>\n",
       "      <td>0</td>\n",
       "      <td>11</td>\n",
       "      <td>10803.0</td>\n",
       "    </tr>\n",
       "    <tr>\n",
       "      <th>1</th>\n",
       "      <td>2</td>\n",
       "      <td>2013-11-15 03:45:04</td>\n",
       "      <td>Poole Matthew</td>\n",
       "      <td>MatthewPoole@gustr.com</td>\n",
       "      <td>ORG_INVITE</td>\n",
       "      <td>1.396238e+09</td>\n",
       "      <td>0</td>\n",
       "      <td>0</td>\n",
       "      <td>1</td>\n",
       "      <td>316.0</td>\n",
       "    </tr>\n",
       "    <tr>\n",
       "      <th>2</th>\n",
       "      <td>3</td>\n",
       "      <td>2013-03-19 23:14:52</td>\n",
       "      <td>Bottrill Mitchell</td>\n",
       "      <td>MitchellBottrill@gustr.com</td>\n",
       "      <td>ORG_INVITE</td>\n",
       "      <td>1.363735e+09</td>\n",
       "      <td>0</td>\n",
       "      <td>0</td>\n",
       "      <td>94</td>\n",
       "      <td>1525.0</td>\n",
       "    </tr>\n",
       "    <tr>\n",
       "      <th>3</th>\n",
       "      <td>4</td>\n",
       "      <td>2013-05-21 08:09:28</td>\n",
       "      <td>Clausen Nicklas</td>\n",
       "      <td>NicklasSClausen@yahoo.com</td>\n",
       "      <td>GUEST_INVITE</td>\n",
       "      <td>1.369210e+09</td>\n",
       "      <td>0</td>\n",
       "      <td>0</td>\n",
       "      <td>1</td>\n",
       "      <td>5151.0</td>\n",
       "    </tr>\n",
       "    <tr>\n",
       "      <th>4</th>\n",
       "      <td>5</td>\n",
       "      <td>2013-01-17 10:14:20</td>\n",
       "      <td>Raw Grace</td>\n",
       "      <td>GraceRaw@yahoo.com</td>\n",
       "      <td>GUEST_INVITE</td>\n",
       "      <td>1.358850e+09</td>\n",
       "      <td>0</td>\n",
       "      <td>0</td>\n",
       "      <td>193</td>\n",
       "      <td>5240.0</td>\n",
       "    </tr>\n",
       "  </tbody>\n",
       "</table>\n",
       "</div>"
      ],
      "text/plain": [
       "   object_id        creation_time               name  \\\n",
       "0          1  2014-04-22 03:53:30     Clausen August   \n",
       "1          2  2013-11-15 03:45:04      Poole Matthew   \n",
       "2          3  2013-03-19 23:14:52  Bottrill Mitchell   \n",
       "3          4  2013-05-21 08:09:28    Clausen Nicklas   \n",
       "4          5  2013-01-17 10:14:20          Raw Grace   \n",
       "\n",
       "                        email creation_source  last_session_creation_time  \\\n",
       "0    AugustCClausen@yahoo.com    GUEST_INVITE                1.398139e+09   \n",
       "1      MatthewPoole@gustr.com      ORG_INVITE                1.396238e+09   \n",
       "2  MitchellBottrill@gustr.com      ORG_INVITE                1.363735e+09   \n",
       "3   NicklasSClausen@yahoo.com    GUEST_INVITE                1.369210e+09   \n",
       "4          GraceRaw@yahoo.com    GUEST_INVITE                1.358850e+09   \n",
       "\n",
       "   opted_in_to_mailing_list  enabled_for_marketing_drip  org_id  \\\n",
       "0                         1                           0      11   \n",
       "1                         0                           0       1   \n",
       "2                         0                           0      94   \n",
       "3                         0                           0       1   \n",
       "4                         0                           0     193   \n",
       "\n",
       "   invited_by_user_id  \n",
       "0             10803.0  \n",
       "1               316.0  \n",
       "2              1525.0  \n",
       "3              5151.0  \n",
       "4              5240.0  "
      ]
     },
     "execution_count": 12,
     "metadata": {},
     "output_type": "execute_result"
    }
   ],
   "source": [
    "# data on 12,000 users who signed up for the product in the last two years\n",
    "user_df.head()"
   ]
  },
  {
   "cell_type": "code",
   "execution_count": 13,
   "metadata": {},
   "outputs": [
    {
     "data": {
      "text/html": [
       "<div>\n",
       "<style scoped>\n",
       "    .dataframe tbody tr th:only-of-type {\n",
       "        vertical-align: middle;\n",
       "    }\n",
       "\n",
       "    .dataframe tbody tr th {\n",
       "        vertical-align: top;\n",
       "    }\n",
       "\n",
       "    .dataframe thead th {\n",
       "        text-align: right;\n",
       "    }\n",
       "</style>\n",
       "<table border=\"1\" class=\"dataframe\">\n",
       "  <thead>\n",
       "    <tr style=\"text-align: right;\">\n",
       "      <th></th>\n",
       "      <th>object_id</th>\n",
       "      <th>creation_time</th>\n",
       "      <th>name</th>\n",
       "      <th>email</th>\n",
       "      <th>creation_source</th>\n",
       "      <th>last_session_creation_time</th>\n",
       "      <th>opted_in_to_mailing_list</th>\n",
       "      <th>enabled_for_marketing_drip</th>\n",
       "      <th>org_id</th>\n",
       "      <th>invited_by_user_id</th>\n",
       "    </tr>\n",
       "  </thead>\n",
       "  <tbody>\n",
       "  </tbody>\n",
       "</table>\n",
       "</div>"
      ],
      "text/plain": [
       "Empty DataFrame\n",
       "Columns: [object_id, creation_time, name, email, creation_source, last_session_creation_time, opted_in_to_mailing_list, enabled_for_marketing_drip, org_id, invited_by_user_id]\n",
       "Index: []"
      ]
     },
     "execution_count": 13,
     "metadata": {},
     "output_type": "execute_result"
    }
   ],
   "source": [
    "# find duplicated rows\n",
    "user_df[user_df.duplicated(keep=False)]"
   ]
  },
  {
   "cell_type": "code",
   "execution_count": 14,
   "metadata": {},
   "outputs": [
    {
     "data": {
      "text/plain": [
       "object_id                        0\n",
       "creation_time                    0\n",
       "name                             0\n",
       "email                            0\n",
       "creation_source                  0\n",
       "last_session_creation_time    3177\n",
       "opted_in_to_mailing_list         0\n",
       "enabled_for_marketing_drip       0\n",
       "org_id                           0\n",
       "invited_by_user_id            5583\n",
       "dtype: int64"
      ]
     },
     "execution_count": 14,
     "metadata": {},
     "output_type": "execute_result"
    }
   ],
   "source": [
    "# check na values\n",
    "user_df.isna().sum()"
   ]
  },
  {
   "cell_type": "code",
   "execution_count": 15,
   "metadata": {},
   "outputs": [],
   "source": [
    "# we will drop those with missing values\n",
    "user_df.drop(columns=['last_session_creation_time','invited_by_user_id'], inplace=True)"
   ]
  },
  {
   "cell_type": "code",
   "execution_count": 16,
   "metadata": {},
   "outputs": [],
   "source": [
    "# rename columns for merging later on\n",
    "user_df.rename(columns={'object_id':'user_id'}, inplace=True)"
   ]
  },
  {
   "cell_type": "code",
   "execution_count": 17,
   "metadata": {},
   "outputs": [
    {
     "data": {
      "text/plain": [
       "user_id                       0\n",
       "creation_time                 0\n",
       "name                          0\n",
       "email                         0\n",
       "creation_source               0\n",
       "opted_in_to_mailing_list      0\n",
       "enabled_for_marketing_drip    0\n",
       "org_id                        0\n",
       "dtype: int64"
      ]
     },
     "execution_count": 17,
     "metadata": {},
     "output_type": "execute_result"
    }
   ],
   "source": [
    "# check na values\n",
    "user_df.isna().sum()"
   ]
  },
  {
   "cell_type": "code",
   "execution_count": 18,
   "metadata": {},
   "outputs": [
    {
     "name": "stdout",
     "output_type": "stream",
     "text": [
      "<class 'pandas.core.frame.DataFrame'>\n",
      "RangeIndex: 12000 entries, 0 to 11999\n",
      "Data columns (total 8 columns):\n",
      " #   Column                      Non-Null Count  Dtype \n",
      "---  ------                      --------------  ----- \n",
      " 0   user_id                     12000 non-null  int64 \n",
      " 1   creation_time               12000 non-null  object\n",
      " 2   name                        12000 non-null  object\n",
      " 3   email                       12000 non-null  object\n",
      " 4   creation_source             12000 non-null  object\n",
      " 5   opted_in_to_mailing_list    12000 non-null  int64 \n",
      " 6   enabled_for_marketing_drip  12000 non-null  int64 \n",
      " 7   org_id                      12000 non-null  int64 \n",
      "dtypes: int64(4), object(4)\n",
      "memory usage: 750.1+ KB\n"
     ]
    }
   ],
   "source": [
    "user_df.info()"
   ]
  },
  {
   "cell_type": "markdown",
   "metadata": {},
   "source": [
    "## Merging Data Frames"
   ]
  },
  {
   "cell_type": "code",
   "execution_count": 19,
   "metadata": {},
   "outputs": [
    {
     "data": {
      "text/plain": [
       "(11520, 9)"
      ]
     },
     "execution_count": 19,
     "metadata": {},
     "output_type": "execute_result"
    }
   ],
   "source": [
    "# Inner join the resample_not_adopted with user_df\n",
    "not_adopted = resample_not_adopted.merge(user_df,how='inner', on='user_id')\n",
    "not_adopted['creation_time'] = pd.to_datetime(not_adopted['creation_time'])\n",
    "not_adopted.shape"
   ]
  },
  {
   "cell_type": "code",
   "execution_count": 20,
   "metadata": {},
   "outputs": [],
   "source": [
    "# Inner join the resample_df with user_df\n",
    "new_df = resample_df.merge(user_df,how='inner', on='user_id')\n",
    "new_df.shape\n",
    "data = new_df.copy()"
   ]
  },
  {
   "cell_type": "markdown",
   "metadata": {},
   "source": [
    "The shape above indicate that we not missed any data points with the inner join between `user_df`, both `resample_df` and `new_df` have the same number or rows.\n",
    "Same for `resample_not_adopted` and `not_adopted`"
   ]
  },
  {
   "cell_type": "code",
   "execution_count": 21,
   "metadata": {},
   "outputs": [
    {
     "data": {
      "text/plain": [
       "Index(['time_stamp', 'user_id', 'creation_time', 'name', 'email',\n",
       "       'creation_source', 'opted_in_to_mailing_list',\n",
       "       'enabled_for_marketing_drip', 'org_id'],\n",
       "      dtype='object')"
      ]
     },
     "execution_count": 21,
     "metadata": {},
     "output_type": "execute_result"
    }
   ],
   "source": [
    "new_df.columns"
   ]
  },
  {
   "cell_type": "code",
   "execution_count": 22,
   "metadata": {},
   "outputs": [
    {
     "name": "stdout",
     "output_type": "stream",
     "text": [
      "<class 'pandas.core.frame.DataFrame'>\n",
      "RangeIndex: 161424 entries, 0 to 161423\n",
      "Data columns (total 9 columns):\n",
      " #   Column                      Non-Null Count   Dtype         \n",
      "---  ------                      --------------   -----         \n",
      " 0   time_stamp                  161424 non-null  datetime64[ns]\n",
      " 1   user_id                     161424 non-null  int64         \n",
      " 2   creation_time               161424 non-null  object        \n",
      " 3   name                        161424 non-null  object        \n",
      " 4   email                       161424 non-null  object        \n",
      " 5   creation_source             161424 non-null  object        \n",
      " 6   opted_in_to_mailing_list    161424 non-null  int64         \n",
      " 7   enabled_for_marketing_drip  161424 non-null  int64         \n",
      " 8   org_id                      161424 non-null  int64         \n",
      "dtypes: datetime64[ns](1), int64(4), object(4)\n",
      "memory usage: 11.1+ MB\n"
     ]
    }
   ],
   "source": [
    "new_df.info()"
   ]
  },
  {
   "cell_type": "code",
   "execution_count": 23,
   "metadata": {},
   "outputs": [
    {
     "data": {
      "text/plain": [
       "0         2012\n",
       "1         2012\n",
       "2         2012\n",
       "3         2012\n",
       "4         2012\n",
       "          ... \n",
       "161419    2014\n",
       "161420    2014\n",
       "161421    2014\n",
       "161422    2014\n",
       "161423    2014\n",
       "Name: time_stamp, Length: 161424, dtype: int32"
      ]
     },
     "execution_count": 23,
     "metadata": {},
     "output_type": "execute_result"
    }
   ],
   "source": [
    "new_df['time_stamp'].dt.year"
   ]
  },
  {
   "cell_type": "code",
   "execution_count": 24,
   "metadata": {},
   "outputs": [
    {
     "name": "stdout",
     "output_type": "stream",
     "text": [
      "(11440, 9)\n"
     ]
    }
   ],
   "source": [
    "# Group the DataFrame by month and year\n",
    "grouped = new_df.groupby([new_df['time_stamp'].dt.month, new_df['time_stamp'].dt.year])\n",
    "\n",
    "# Define the number of samples you want from each group\n",
    "num_samples_per_group = 500\n",
    "\n",
    "# Sample a fixed number of rows from each group\n",
    "downsampled_df = grouped.apply(lambda x: x.sample(num_samples_per_group) if len(x) > num_samples_per_group else x)\n",
    "\n",
    "# Reset index to avoid duplicate column labels\n",
    "downsampled_df = downsampled_df.reset_index(drop=True)\n",
    "print(downsampled_df.shape)"
   ]
  },
  {
   "cell_type": "code",
   "execution_count": 25,
   "metadata": {},
   "outputs": [
    {
     "data": {
      "image/png": "[encoded data removed]",
      "text/plain": [
       "<Figure size 1200x500 with 4 Axes>"
      ]
     },
     "metadata": {},
     "output_type": "display_data"
    }
   ],
   "source": [
    "# Create subplots\n",
    "fig, axes = plt.subplots(2, 2, figsize=(12, 5))\n",
    "\n",
    "# Plot distribution of adopted users hourly\n",
    "sns.countplot(data=downsampled_df, x=downsampled_df['time_stamp'].dt.hour, color='purple',alpha=0.5 , ax=axes[0, 0])\n",
    "axes[0, 0].set_title('Distribution of Adopted Users that Logged-in Hourly')\n",
    "axes[0, 0].set_xlabel('Hour of the Day')\n",
    "\n",
    "# Plot distribution of adopted users by day of the week\n",
    "sns.countplot(data=downsampled_df, x=downsampled_df['time_stamp'].dt.day_of_week, color='purple',alpha=0.5 , ax=axes[0, 1])\n",
    "axes[0, 1].set_title('Distribution of Adopted Users that Logged-in Day of the Week')\n",
    "axes[0, 1].set_xlabel('Day of the Week')\n",
    "axes[0, 1].set_xticks(range(7))\n",
    "axes[0, 1].set_xticklabels(['Mon', 'Tue', 'Wed', 'Thu', 'Fri', 'Sat', 'Sun'])  # Set meaningful x-labels\n",
    "\n",
    "# Plot distribution of adopted users by month\n",
    "sns.countplot(data=downsampled_df, x=downsampled_df['time_stamp'].dt.month, color='purple',alpha=0.5 , ax=axes[1, 0])\n",
    "axes[1, 0].set_title('Distribution of Adopted Users that Logged-in Monthly')\n",
    "axes[1, 0].set_xlabel('Month')\n",
    "axes[1, 0].set_xticks(range(1, 13))\n",
    "axes[1, 0].set_xticklabels(['Jan', 'Feb', 'Mar', 'Apr', 'May', 'Jun', 'Jul', 'Aug', 'Sep', 'Oct', 'Nov', 'Dec'])  # Set meaningful x-labels\n",
    "\n",
    "# Plot distribution of adopted users by year\n",
    "sns.countplot(data=downsampled_df, x=downsampled_df['time_stamp'].dt.year, color='purple',alpha=0.5 , ax=axes[1, 1])\n",
    "axes[1, 1].set_title('Distribution of Adopted Users that Logged-in Yearly')\n",
    "axes[1, 1].set_xlabel('Year')\n",
    "axes[1, 1].tick_params(axis='x', rotation=45)  # Rotate x-labels for better readability\n",
    "\n",
    "# Set main title for the entire figure\n",
    "fig.suptitle('Downsampled Adopted User Login Patterns Over Time', fontsize=16)\n",
    "\n",
    "plt.tight_layout()\n",
    "plt.show()"
   ]
  },
  {
   "cell_type": "code",
   "execution_count": 26,
   "metadata": {},
   "outputs": [
    {
     "data": {
      "image/png": "[encoded data removed]",
      "text/plain": [
       "<Figure size 1200x500 with 4 Axes>"
      ]
     },
     "metadata": {},
     "output_type": "display_data"
    }
   ],
   "source": [
    "# Create subplots\n",
    "fig, axes = plt.subplots(2, 2, figsize=(12, 5))\n",
    "\n",
    "# Plot distribution of adopted users hourly\n",
    "sns.countplot(data=not_adopted, x=not_adopted['time_stamp'].dt.hour, color='blue',alpha=0.7 , ax=axes[0, 0])\n",
    "axes[0, 0].set_title('Distribution of Non-Adopted Users that Logged-in Hourly')\n",
    "axes[0, 0].set_xlabel('Hour of the Day')\n",
    "\n",
    "# Plot distribution of adopted users by day of the week\n",
    "sns.countplot(data=not_adopted, x=not_adopted['time_stamp'].dt.day_of_week, color='blue',alpha=0.7 , ax=axes[0, 1])\n",
    "axes[0, 1].set_title('Distribution of Non-Adopted Users that Logged-in Day of the Week')\n",
    "axes[0, 1].set_xlabel('Day of the Week')\n",
    "axes[0, 1].set_xticks(range(7))\n",
    "axes[0, 1].set_xticklabels(['Mon', 'Tue', 'Wed', 'Thu', 'Fri', 'Sat', 'Sun'])  # Set meaningful x-labels\n",
    "\n",
    "# Plot distribution of adopted users by month\n",
    "sns.countplot(data=not_adopted, x=not_adopted['time_stamp'].dt.month, color='blue',alpha=0.7 , ax=axes[1, 0])\n",
    "axes[1, 0].set_title('Distribution of Non-Adopted Users that Logged-in Monthly')\n",
    "axes[1, 0].set_xlabel('Month')\n",
    "axes[1, 0].set_xticks(range(1, 13))\n",
    "axes[1, 0].set_xticklabels(['Jan', 'Feb', 'Mar', 'Apr', 'May', 'Jun', 'Jul', 'Aug', 'Sep', 'Oct', 'Nov', 'Dec'])  # Set meaningful x-labels\n",
    "\n",
    "# Plot distribution of adopted users by year\n",
    "sns.countplot(data=not_adopted, x=not_adopted['time_stamp'].dt.year, color='blue',alpha=0.7 , ax=axes[1, 1])\n",
    "axes[1, 1].set_title('Distribution of Non-Adopted Users that Logged-in Yearly')\n",
    "axes[1, 1].set_xlabel('Year')\n",
    "axes[1, 1].tick_params(axis='x', rotation=45)  # Rotate x-labels for better readability\n",
    "\n",
    "# Set main title for the entire figure\n",
    "fig.suptitle('Non-Adopted User Login Patterns Over Time', fontsize=16)\n",
    "\n",
    "plt.tight_layout()\n",
    "plt.show()"
   ]
  },
  {
   "cell_type": "code",
   "execution_count": 27,
   "metadata": {},
   "outputs": [
    {
     "name": "stdout",
     "output_type": "stream",
     "text": [
      "Before duplicated users have been removed:\n",
      "(161424, 9)\n",
      "(11520, 9)\n",
      "--------------------\n",
      "After duplicated users have been removed:\n",
      "(1445, 9)\n",
      "(7378, 9)\n"
     ]
    }
   ],
   "source": [
    "# Remove duplicate user entries\n",
    "print('Before duplicated users have been removed:')\n",
    "print(new_df.shape)\n",
    "print(not_adopted.shape)\n",
    "print('-'*20)\n",
    "new_df = new_df.drop_duplicates(subset='user_id')\n",
    "not_adopted = not_adopted.drop_duplicates(subset='user_id',keep='first')\n",
    "print('After duplicated users have been removed:')\n",
    "print(new_df.shape)\n",
    "print(not_adopted.shape)\n"
   ]
  },
  {
   "cell_type": "code",
   "execution_count": 28,
   "metadata": {},
   "outputs": [
    {
     "data": {
      "image/png": "[encoded data removed]",
      "text/plain": [
       "<Figure size 800x500 with 1 Axes>"
      ]
     },
     "metadata": {},
     "output_type": "display_data"
    }
   ],
   "source": [
    "# Adopted Creation_Source\n",
    "plt.figure(figsize=(8, 5))\n",
    "sns.countplot(data=new_df, x='creation_source', hue='creation_source', palette='Purples')\n",
    "plt.title('Distribution of Adopted Users by Creation Source')\n",
    "plt.xticks(rotation=45)\n",
    "plt.xlabel('How the Account was Created')\n",
    "plt.show()"
   ]
  },
  {
   "cell_type": "code",
   "execution_count": 29,
   "metadata": {},
   "outputs": [
    {
     "data": {
      "image/png": "[encoded data removed]",
      "text/plain": [
       "<Figure size 800x500 with 1 Axes>"
      ]
     },
     "metadata": {},
     "output_type": "display_data"
    }
   ],
   "source": [
    "# Not Adopted Creation_Source\n",
    "plt.figure(figsize=(8, 5))\n",
    "sns.countplot(data=not_adopted, x='creation_source', hue='creation_source', palette='Blues')\n",
    "plt.title('Distribution of Non-Adopted Users by Creation Source')\n",
    "plt.xticks(rotation=45)\n",
    "plt.xlabel('How the Account was Created')\n",
    "plt.show()"
   ]
  },
  {
   "cell_type": "code",
   "execution_count": 30,
   "metadata": {},
   "outputs": [
    {
     "data": {
      "text/plain": [
       "Index(['time_stamp', 'user_id', 'creation_time', 'name', 'email',\n",
       "       'creation_source', 'opted_in_to_mailing_list',\n",
       "       'enabled_for_marketing_drip', 'org_id'],\n",
       "      dtype='object')"
      ]
     },
     "execution_count": 30,
     "metadata": {},
     "output_type": "execute_result"
    }
   ],
   "source": [
    "new_df.columns"
   ]
  },
  {
   "cell_type": "code",
   "execution_count": 31,
   "metadata": {},
   "outputs": [
    {
     "data": {
      "image/png": "[encoded data removed]",
      "text/plain": [
       "<Figure size 1200x500 with 2 Axes>"
      ]
     },
     "metadata": {},
     "output_type": "display_data"
    }
   ],
   "source": [
    "# Opted_in_to_mailing_list, Enabled_for_marketing_drip\n",
    "fig, axes = plt.subplots(1, 2, figsize=(12, 5))\n",
    "sns.countplot(data=new_df, x='opted_in_to_mailing_list', hue='opted_in_to_mailing_list', palette='Blues', ax=axes[0], legend=False)\n",
    "axes[0].set_xlabel('Opted into Mailing')\n",
    "axes[0].set_title('Adopted Users by Mailing List Opt-In')\n",
    "sns.countplot(data=new_df, x='enabled_for_marketing_drip', hue='enabled_for_marketing_drip', palette='Reds', ax=axes[1], legend=False)\n",
    "axes[1].set_title('Adopted Users by Marketing Drip Enablement')\n",
    "axes[1].set_xlabel('Enabled Marketing Drip')\n",
    "plt.tight_layout()\n",
    "plt.show()\n"
   ]
  },
  {
   "cell_type": "code",
   "execution_count": 32,
   "metadata": {},
   "outputs": [
    {
     "data": {
      "image/png": "[encoded data removed]",
      "text/plain": [
       "<Figure size 1200x500 with 2 Axes>"
      ]
     },
     "metadata": {},
     "output_type": "display_data"
    }
   ],
   "source": [
    "# Opted_in_to_mailing_list, Enabled_for_marketing_drip\n",
    "fig, axes = plt.subplots(1, 2, figsize=(12, 5))\n",
    "sns.countplot(data=not_adopted, x='opted_in_to_mailing_list', hue='opted_in_to_mailing_list', palette='Purples', ax=axes[0], legend=False)\n",
    "axes[0].set_xlabel('Opted into Mailing')\n",
    "axes[0].set_title('Non-Adopted Users by Mailing List Opt-In')\n",
    "sns.countplot(data=not_adopted, x='enabled_for_marketing_drip', hue='enabled_for_marketing_drip', palette='Greens', ax=axes[1], legend=False)\n",
    "axes[1].set_title('Non-Adopted Users by Marketing Drip Enablement')\n",
    "axes[1].set_xlabel('Enabled Marketing Drip')\n",
    "plt.tight_layout()\n",
    "plt.show()\n"
   ]
  },
  {
   "cell_type": "code",
   "execution_count": 33,
   "metadata": {},
   "outputs": [
    {
     "data": {
      "text/html": [
       "<div>\n",
       "<style scoped>\n",
       "    .dataframe tbody tr th:only-of-type {\n",
       "        vertical-align: middle;\n",
       "    }\n",
       "\n",
       "    .dataframe tbody tr th {\n",
       "        vertical-align: top;\n",
       "    }\n",
       "\n",
       "    .dataframe thead th {\n",
       "        text-align: right;\n",
       "    }\n",
       "</style>\n",
       "<table border=\"1\" class=\"dataframe\">\n",
       "  <thead>\n",
       "    <tr style=\"text-align: right;\">\n",
       "      <th></th>\n",
       "      <th>time_stamp</th>\n",
       "      <th>user_id</th>\n",
       "      <th>adopted</th>\n",
       "      <th>creation_time</th>\n",
       "      <th>name</th>\n",
       "      <th>email</th>\n",
       "      <th>creation_source</th>\n",
       "      <th>opted_in_to_mailing_list</th>\n",
       "      <th>enabled_for_marketing_drip</th>\n",
       "      <th>org_id</th>\n",
       "    </tr>\n",
       "  </thead>\n",
       "  <tbody>\n",
       "    <tr>\n",
       "      <th>0</th>\n",
       "      <td>2014-04-22 03:53:30</td>\n",
       "      <td>1</td>\n",
       "      <td>0</td>\n",
       "      <td>2014-04-22 03:53:30</td>\n",
       "      <td>Clausen August</td>\n",
       "      <td>AugustCClausen@yahoo.com</td>\n",
       "      <td>GUEST_INVITE</td>\n",
       "      <td>1</td>\n",
       "      <td>0</td>\n",
       "      <td>11</td>\n",
       "    </tr>\n",
       "    <tr>\n",
       "      <th>1</th>\n",
       "      <td>2013-11-15 03:45:04</td>\n",
       "      <td>2</td>\n",
       "      <td>0</td>\n",
       "      <td>2013-11-15 03:45:04</td>\n",
       "      <td>Poole Matthew</td>\n",
       "      <td>MatthewPoole@gustr.com</td>\n",
       "      <td>ORG_INVITE</td>\n",
       "      <td>0</td>\n",
       "      <td>0</td>\n",
       "      <td>1</td>\n",
       "    </tr>\n",
       "    <tr>\n",
       "      <th>2</th>\n",
       "      <td>2013-11-29 03:45:04</td>\n",
       "      <td>2</td>\n",
       "      <td>0</td>\n",
       "      <td>2013-11-15 03:45:04</td>\n",
       "      <td>Poole Matthew</td>\n",
       "      <td>MatthewPoole@gustr.com</td>\n",
       "      <td>ORG_INVITE</td>\n",
       "      <td>0</td>\n",
       "      <td>0</td>\n",
       "      <td>1</td>\n",
       "    </tr>\n",
       "    <tr>\n",
       "      <th>3</th>\n",
       "      <td>2013-12-09 03:45:04</td>\n",
       "      <td>2</td>\n",
       "      <td>0</td>\n",
       "      <td>2013-11-15 03:45:04</td>\n",
       "      <td>Poole Matthew</td>\n",
       "      <td>MatthewPoole@gustr.com</td>\n",
       "      <td>ORG_INVITE</td>\n",
       "      <td>0</td>\n",
       "      <td>0</td>\n",
       "      <td>1</td>\n",
       "    </tr>\n",
       "    <tr>\n",
       "      <th>4</th>\n",
       "      <td>2013-12-25 03:45:04</td>\n",
       "      <td>2</td>\n",
       "      <td>0</td>\n",
       "      <td>2013-11-15 03:45:04</td>\n",
       "      <td>Poole Matthew</td>\n",
       "      <td>MatthewPoole@gustr.com</td>\n",
       "      <td>ORG_INVITE</td>\n",
       "      <td>0</td>\n",
       "      <td>0</td>\n",
       "      <td>1</td>\n",
       "    </tr>\n",
       "  </tbody>\n",
       "</table>\n",
       "</div>"
      ],
      "text/plain": [
       "            time_stamp  user_id  adopted        creation_time            name  \\\n",
       "0  2014-04-22 03:53:30        1        0  2014-04-22 03:53:30  Clausen August   \n",
       "1  2013-11-15 03:45:04        2        0  2013-11-15 03:45:04   Poole Matthew   \n",
       "2  2013-11-29 03:45:04        2        0  2013-11-15 03:45:04   Poole Matthew   \n",
       "3  2013-12-09 03:45:04        2        0  2013-11-15 03:45:04   Poole Matthew   \n",
       "4  2013-12-25 03:45:04        2        0  2013-11-15 03:45:04   Poole Matthew   \n",
       "\n",
       "                      email creation_source  opted_in_to_mailing_list  \\\n",
       "0  AugustCClausen@yahoo.com    GUEST_INVITE                         1   \n",
       "1    MatthewPoole@gustr.com      ORG_INVITE                         0   \n",
       "2    MatthewPoole@gustr.com      ORG_INVITE                         0   \n",
       "3    MatthewPoole@gustr.com      ORG_INVITE                         0   \n",
       "4    MatthewPoole@gustr.com      ORG_INVITE                         0   \n",
       "\n",
       "   enabled_for_marketing_drip  org_id  \n",
       "0                           0      11  \n",
       "1                           0       1  \n",
       "2                           0       1  \n",
       "3                           0       1  \n",
       "4                           0       1  "
      ]
     },
     "execution_count": 33,
     "metadata": {},
     "output_type": "execute_result"
    }
   ],
   "source": [
    "# Identify adopted users\n",
    "adopted_users = resample_df['user_id'].unique()\n",
    "\n",
    "# Create a new column 'adopted' in usage_df indicating whether the user is adopted or not\n",
    "usage_df['adopted'] = np.where(usage_df['user_id'].isin(adopted_users), 1, 0)\n",
    "\n",
    "# inner join \n",
    "data = usage_df.merge(user_df,how='inner', on='user_id')\n",
    "data.head()"
   ]
  },
  {
   "cell_type": "code",
   "execution_count": 34,
   "metadata": {},
   "outputs": [],
   "source": [
    "data = pd.get_dummies(data, columns=['creation_source'])\n",
    "\n",
    "# Convert date-time variables \n",
    "\n",
    "# We used timestamp to figure out whether a user was adopted or not, we do not need timestamp anymore\n",
    "# data['time_stamp'] = pd.to_datetime(data['time_stamp'])\n",
    "# data['login_day_hour'] = data['time_stamp'].dt.hour\n",
    "# data['login_day_of_week'] = data['time_stamp'].dt.dayofweek\n",
    "# data['login_month'] = data['time_stamp'].dt.month\n",
    "data.drop(['time_stamp'], axis=1, inplace=True) \n",
    "\n",
    "data['creation_time'] = pd.to_datetime(data['creation_time'])\n",
    "data['creation_hour'] = data['creation_time'].dt.hour\n",
    "data['creation_day_of_week'] = data['creation_time'].dt.dayofweek\n",
    "data['creation_month'] = data['creation_time'].dt.month\n",
    "data['creation_year'] = data['creation_time'].dt.year\n",
    "data.drop(['creation_time'], axis=1, inplace=True) "
   ]
  },
  {
   "cell_type": "code",
   "execution_count": 35,
   "metadata": {},
   "outputs": [
    {
     "data": {
      "text/html": [
       "<div>\n",
       "<style scoped>\n",
       "    .dataframe tbody tr th:only-of-type {\n",
       "        vertical-align: middle;\n",
       "    }\n",
       "\n",
       "    .dataframe tbody tr th {\n",
       "        vertical-align: top;\n",
       "    }\n",
       "\n",
       "    .dataframe thead th {\n",
       "        text-align: right;\n",
       "    }\n",
       "</style>\n",
       "<table border=\"1\" class=\"dataframe\">\n",
       "  <thead>\n",
       "    <tr style=\"text-align: right;\">\n",
       "      <th></th>\n",
       "      <th>user_id</th>\n",
       "      <th>adopted</th>\n",
       "      <th>name</th>\n",
       "      <th>email</th>\n",
       "      <th>opted_in_to_mailing_list</th>\n",
       "      <th>enabled_for_marketing_drip</th>\n",
       "      <th>org_id</th>\n",
       "      <th>creation_source_GUEST_INVITE</th>\n",
       "      <th>creation_source_ORG_INVITE</th>\n",
       "      <th>creation_source_PERSONAL_PROJECTS</th>\n",
       "      <th>creation_source_SIGNUP</th>\n",
       "      <th>creation_source_SIGNUP_GOOGLE_AUTH</th>\n",
       "      <th>creation_hour</th>\n",
       "      <th>creation_day_of_week</th>\n",
       "      <th>creation_month</th>\n",
       "      <th>creation_year</th>\n",
       "    </tr>\n",
       "  </thead>\n",
       "  <tbody>\n",
       "    <tr>\n",
       "      <th>0</th>\n",
       "      <td>1</td>\n",
       "      <td>0</td>\n",
       "      <td>Clausen August</td>\n",
       "      <td>AugustCClausen@yahoo.com</td>\n",
       "      <td>1</td>\n",
       "      <td>0</td>\n",
       "      <td>11</td>\n",
       "      <td>True</td>\n",
       "      <td>False</td>\n",
       "      <td>False</td>\n",
       "      <td>False</td>\n",
       "      <td>False</td>\n",
       "      <td>3</td>\n",
       "      <td>1</td>\n",
       "      <td>4</td>\n",
       "      <td>2014</td>\n",
       "    </tr>\n",
       "    <tr>\n",
       "      <th>1</th>\n",
       "      <td>2</td>\n",
       "      <td>0</td>\n",
       "      <td>Poole Matthew</td>\n",
       "      <td>MatthewPoole@gustr.com</td>\n",
       "      <td>0</td>\n",
       "      <td>0</td>\n",
       "      <td>1</td>\n",
       "      <td>False</td>\n",
       "      <td>True</td>\n",
       "      <td>False</td>\n",
       "      <td>False</td>\n",
       "      <td>False</td>\n",
       "      <td>3</td>\n",
       "      <td>4</td>\n",
       "      <td>11</td>\n",
       "      <td>2013</td>\n",
       "    </tr>\n",
       "    <tr>\n",
       "      <th>2</th>\n",
       "      <td>2</td>\n",
       "      <td>0</td>\n",
       "      <td>Poole Matthew</td>\n",
       "      <td>MatthewPoole@gustr.com</td>\n",
       "      <td>0</td>\n",
       "      <td>0</td>\n",
       "      <td>1</td>\n",
       "      <td>False</td>\n",
       "      <td>True</td>\n",
       "      <td>False</td>\n",
       "      <td>False</td>\n",
       "      <td>False</td>\n",
       "      <td>3</td>\n",
       "      <td>4</td>\n",
       "      <td>11</td>\n",
       "      <td>2013</td>\n",
       "    </tr>\n",
       "    <tr>\n",
       "      <th>3</th>\n",
       "      <td>2</td>\n",
       "      <td>0</td>\n",
       "      <td>Poole Matthew</td>\n",
       "      <td>MatthewPoole@gustr.com</td>\n",
       "      <td>0</td>\n",
       "      <td>0</td>\n",
       "      <td>1</td>\n",
       "      <td>False</td>\n",
       "      <td>True</td>\n",
       "      <td>False</td>\n",
       "      <td>False</td>\n",
       "      <td>False</td>\n",
       "      <td>3</td>\n",
       "      <td>4</td>\n",
       "      <td>11</td>\n",
       "      <td>2013</td>\n",
       "    </tr>\n",
       "    <tr>\n",
       "      <th>4</th>\n",
       "      <td>2</td>\n",
       "      <td>0</td>\n",
       "      <td>Poole Matthew</td>\n",
       "      <td>MatthewPoole@gustr.com</td>\n",
       "      <td>0</td>\n",
       "      <td>0</td>\n",
       "      <td>1</td>\n",
       "      <td>False</td>\n",
       "      <td>True</td>\n",
       "      <td>False</td>\n",
       "      <td>False</td>\n",
       "      <td>False</td>\n",
       "      <td>3</td>\n",
       "      <td>4</td>\n",
       "      <td>11</td>\n",
       "      <td>2013</td>\n",
       "    </tr>\n",
       "  </tbody>\n",
       "</table>\n",
       "</div>"
      ],
      "text/plain": [
       "   user_id  adopted            name                     email  \\\n",
       "0        1        0  Clausen August  AugustCClausen@yahoo.com   \n",
       "1        2        0   Poole Matthew    MatthewPoole@gustr.com   \n",
       "2        2        0   Poole Matthew    MatthewPoole@gustr.com   \n",
       "3        2        0   Poole Matthew    MatthewPoole@gustr.com   \n",
       "4        2        0   Poole Matthew    MatthewPoole@gustr.com   \n",
       "\n",
       "   opted_in_to_mailing_list  enabled_for_marketing_drip  org_id  \\\n",
       "0                         1                           0      11   \n",
       "1                         0                           0       1   \n",
       "2                         0                           0       1   \n",
       "3                         0                           0       1   \n",
       "4                         0                           0       1   \n",
       "\n",
       "   creation_source_GUEST_INVITE  creation_source_ORG_INVITE  \\\n",
       "0                          True                       False   \n",
       "1                         False                        True   \n",
       "2                         False                        True   \n",
       "3                         False                        True   \n",
       "4                         False                        True   \n",
       "\n",
       "   creation_source_PERSONAL_PROJECTS  creation_source_SIGNUP  \\\n",
       "0                              False                   False   \n",
       "1                              False                   False   \n",
       "2                              False                   False   \n",
       "3                              False                   False   \n",
       "4                              False                   False   \n",
       "\n",
       "   creation_source_SIGNUP_GOOGLE_AUTH  creation_hour  creation_day_of_week  \\\n",
       "0                               False              3                     1   \n",
       "1                               False              3                     4   \n",
       "2                               False              3                     4   \n",
       "3                               False              3                     4   \n",
       "4                               False              3                     4   \n",
       "\n",
       "   creation_month  creation_year  \n",
       "0               4           2014  \n",
       "1              11           2013  \n",
       "2              11           2013  \n",
       "3              11           2013  \n",
       "4              11           2013  "
      ]
     },
     "execution_count": 35,
     "metadata": {},
     "output_type": "execute_result"
    }
   ],
   "source": [
    "data.head()"
   ]
  },
  {
   "cell_type": "code",
   "execution_count": 36,
   "metadata": {},
   "outputs": [
    {
     "data": {
      "text/plain": [
       "(207917, 16)"
      ]
     },
     "execution_count": 36,
     "metadata": {},
     "output_type": "execute_result"
    }
   ],
   "source": [
    "data.shape"
   ]
  },
  {
   "cell_type": "code",
   "execution_count": 37,
   "metadata": {},
   "outputs": [
    {
     "data": {
      "text/plain": [
       "(8823, 16)"
      ]
     },
     "execution_count": 37,
     "metadata": {},
     "output_type": "execute_result"
    }
   ],
   "source": [
    "# drop user_id duplicates\n",
    "data = data.drop_duplicates(subset='user_id',keep='first')\n",
    "data.shape"
   ]
  },
  {
   "cell_type": "code",
   "execution_count": 38,
   "metadata": {},
   "outputs": [
    {
     "data": {
      "text/html": [
       "<div>\n",
       "<style scoped>\n",
       "    .dataframe tbody tr th:only-of-type {\n",
       "        vertical-align: middle;\n",
       "    }\n",
       "\n",
       "    .dataframe tbody tr th {\n",
       "        vertical-align: top;\n",
       "    }\n",
       "\n",
       "    .dataframe thead th {\n",
       "        text-align: right;\n",
       "    }\n",
       "</style>\n",
       "<table border=\"1\" class=\"dataframe\">\n",
       "  <thead>\n",
       "    <tr style=\"text-align: right;\">\n",
       "      <th></th>\n",
       "      <th>user_id</th>\n",
       "      <th>adopted</th>\n",
       "      <th>name</th>\n",
       "      <th>email</th>\n",
       "      <th>opted_in_to_mailing_list</th>\n",
       "      <th>enabled_for_marketing_drip</th>\n",
       "      <th>org_id</th>\n",
       "      <th>creation_source_GUEST_INVITE</th>\n",
       "      <th>creation_source_ORG_INVITE</th>\n",
       "      <th>creation_source_PERSONAL_PROJECTS</th>\n",
       "      <th>creation_source_SIGNUP</th>\n",
       "      <th>creation_source_SIGNUP_GOOGLE_AUTH</th>\n",
       "      <th>creation_hour</th>\n",
       "      <th>creation_day_of_week</th>\n",
       "      <th>creation_month</th>\n",
       "      <th>creation_year</th>\n",
       "    </tr>\n",
       "  </thead>\n",
       "  <tbody>\n",
       "    <tr>\n",
       "      <th>0</th>\n",
       "      <td>1</td>\n",
       "      <td>0</td>\n",
       "      <td>Clausen August</td>\n",
       "      <td>AugustCClausen@yahoo.com</td>\n",
       "      <td>1</td>\n",
       "      <td>0</td>\n",
       "      <td>11</td>\n",
       "      <td>True</td>\n",
       "      <td>False</td>\n",
       "      <td>False</td>\n",
       "      <td>False</td>\n",
       "      <td>False</td>\n",
       "      <td>3</td>\n",
       "      <td>1</td>\n",
       "      <td>4</td>\n",
       "      <td>2014</td>\n",
       "    </tr>\n",
       "    <tr>\n",
       "      <th>1</th>\n",
       "      <td>2</td>\n",
       "      <td>0</td>\n",
       "      <td>Poole Matthew</td>\n",
       "      <td>MatthewPoole@gustr.com</td>\n",
       "      <td>0</td>\n",
       "      <td>0</td>\n",
       "      <td>1</td>\n",
       "      <td>False</td>\n",
       "      <td>True</td>\n",
       "      <td>False</td>\n",
       "      <td>False</td>\n",
       "      <td>False</td>\n",
       "      <td>3</td>\n",
       "      <td>4</td>\n",
       "      <td>11</td>\n",
       "      <td>2013</td>\n",
       "    </tr>\n",
       "    <tr>\n",
       "      <th>15</th>\n",
       "      <td>3</td>\n",
       "      <td>0</td>\n",
       "      <td>Bottrill Mitchell</td>\n",
       "      <td>MitchellBottrill@gustr.com</td>\n",
       "      <td>0</td>\n",
       "      <td>0</td>\n",
       "      <td>94</td>\n",
       "      <td>False</td>\n",
       "      <td>True</td>\n",
       "      <td>False</td>\n",
       "      <td>False</td>\n",
       "      <td>False</td>\n",
       "      <td>23</td>\n",
       "      <td>1</td>\n",
       "      <td>3</td>\n",
       "      <td>2013</td>\n",
       "    </tr>\n",
       "    <tr>\n",
       "      <th>16</th>\n",
       "      <td>4</td>\n",
       "      <td>0</td>\n",
       "      <td>Clausen Nicklas</td>\n",
       "      <td>NicklasSClausen@yahoo.com</td>\n",
       "      <td>0</td>\n",
       "      <td>0</td>\n",
       "      <td>1</td>\n",
       "      <td>True</td>\n",
       "      <td>False</td>\n",
       "      <td>False</td>\n",
       "      <td>False</td>\n",
       "      <td>False</td>\n",
       "      <td>8</td>\n",
       "      <td>1</td>\n",
       "      <td>5</td>\n",
       "      <td>2013</td>\n",
       "    </tr>\n",
       "    <tr>\n",
       "      <th>17</th>\n",
       "      <td>5</td>\n",
       "      <td>0</td>\n",
       "      <td>Raw Grace</td>\n",
       "      <td>GraceRaw@yahoo.com</td>\n",
       "      <td>0</td>\n",
       "      <td>0</td>\n",
       "      <td>193</td>\n",
       "      <td>True</td>\n",
       "      <td>False</td>\n",
       "      <td>False</td>\n",
       "      <td>False</td>\n",
       "      <td>False</td>\n",
       "      <td>10</td>\n",
       "      <td>3</td>\n",
       "      <td>1</td>\n",
       "      <td>2013</td>\n",
       "    </tr>\n",
       "  </tbody>\n",
       "</table>\n",
       "</div>"
      ],
      "text/plain": [
       "    user_id  adopted               name                       email  \\\n",
       "0         1        0     Clausen August    AugustCClausen@yahoo.com   \n",
       "1         2        0      Poole Matthew      MatthewPoole@gustr.com   \n",
       "15        3        0  Bottrill Mitchell  MitchellBottrill@gustr.com   \n",
       "16        4        0    Clausen Nicklas   NicklasSClausen@yahoo.com   \n",
       "17        5        0          Raw Grace          GraceRaw@yahoo.com   \n",
       "\n",
       "    opted_in_to_mailing_list  enabled_for_marketing_drip  org_id  \\\n",
       "0                          1                           0      11   \n",
       "1                          0                           0       1   \n",
       "15                         0                           0      94   \n",
       "16                         0                           0       1   \n",
       "17                         0                           0     193   \n",
       "\n",
       "    creation_source_GUEST_INVITE  creation_source_ORG_INVITE  \\\n",
       "0                           True                       False   \n",
       "1                          False                        True   \n",
       "15                         False                        True   \n",
       "16                          True                       False   \n",
       "17                          True                       False   \n",
       "\n",
       "    creation_source_PERSONAL_PROJECTS  creation_source_SIGNUP  \\\n",
       "0                               False                   False   \n",
       "1                               False                   False   \n",
       "15                              False                   False   \n",
       "16                              False                   False   \n",
       "17                              False                   False   \n",
       "\n",
       "    creation_source_SIGNUP_GOOGLE_AUTH  creation_hour  creation_day_of_week  \\\n",
       "0                                False              3                     1   \n",
       "1                                False              3                     4   \n",
       "15                               False             23                     1   \n",
       "16                               False              8                     1   \n",
       "17                               False             10                     3   \n",
       "\n",
       "    creation_month  creation_year  \n",
       "0                4           2014  \n",
       "1               11           2013  \n",
       "15               3           2013  \n",
       "16               5           2013  \n",
       "17               1           2013  "
      ]
     },
     "execution_count": 38,
     "metadata": {},
     "output_type": "execute_result"
    }
   ],
   "source": [
    "data.head()"
   ]
  },
  {
   "cell_type": "code",
   "execution_count": 39,
   "metadata": {},
   "outputs": [
    {
     "data": {
      "text/plain": [
       "adopted\n",
       "0    7378\n",
       "1    1445\n",
       "Name: count, dtype: int64"
      ]
     },
     "execution_count": 39,
     "metadata": {},
     "output_type": "execute_result"
    }
   ],
   "source": [
    "data['adopted'].value_counts()"
   ]
  },
  {
   "cell_type": "code",
   "execution_count": 40,
   "metadata": {},
   "outputs": [
    {
     "name": "stdout",
     "output_type": "stream",
     "text": [
      "Best Parameters for Random Forest: {'max_depth': 5, 'n_estimators': 200}\n",
      "Best Parameters for Gradient Boosting: {'learning_rate': 1, 'max_depth': 5, 'n_estimators': 100}\n",
      "Best Parameters for Support Vector Machine: {'C': 10, 'gamma': 0.001}\n",
      "Classification Report for Random Forest:\n",
      "              precision    recall  f1-score   support\n",
      "\n",
      "           0       0.89      0.56      0.69      2207\n",
      "           1       0.23      0.66      0.34       440\n",
      "\n",
      "    accuracy                           0.58      2647\n",
      "   macro avg       0.56      0.61      0.52      2647\n",
      "weighted avg       0.78      0.58      0.63      2647\n",
      "\n",
      "Classification Report for Gradient Boosting:\n",
      "              precision    recall  f1-score   support\n",
      "\n",
      "           0       0.84      0.89      0.87      2207\n",
      "           1       0.23      0.16      0.19       440\n",
      "\n",
      "    accuracy                           0.77      2647\n",
      "   macro avg       0.54      0.53      0.53      2647\n",
      "weighted avg       0.74      0.77      0.75      2647\n",
      "\n",
      "Classification Report for Support Vector Machine:\n",
      "              precision    recall  f1-score   support\n",
      "\n",
      "           0       0.87      0.62      0.72      2207\n",
      "           1       0.22      0.52      0.31       440\n",
      "\n",
      "    accuracy                           0.60      2647\n",
      "   macro avg       0.54      0.57      0.51      2647\n",
      "weighted avg       0.76      0.60      0.65      2647\n",
      "\n"
     ]
    }
   ],
   "source": [
    "from sklearn.model_selection import train_test_split, GridSearchCV, StratifiedKFold\n",
    "from sklearn.ensemble import RandomForestClassifier, GradientBoostingClassifier\n",
    "from sklearn.svm import SVC\n",
    "from sklearn.metrics import classification_report\n",
    "from sklearn.utils import class_weight\n",
    "\n",
    "X = data.drop(['adopted', 'name', 'email', 'user_id'], axis=1) \n",
    "y = data['adopted']\n",
    "\n",
    "# Splitting data into training and testing sets\n",
    "X_train, X_test, y_train, y_test = train_test_split(X, y, test_size=0.3, random_state=42)\n",
    "\n",
    "# Calculate class weights to address imbalance\n",
    "class_weights = class_weight.compute_class_weight('balanced', classes=np.unique(y_train), y=y_train)\n",
    "\n",
    "# Define the parameter grids for different models\n",
    "param_grid_rf = {\n",
    "    'n_estimators': [50, 100, 200],  \n",
    "    'max_depth': [5, 10, 20]      \n",
    "}\n",
    "\n",
    "param_grid_gb = {\n",
    "    'n_estimators': [50, 100, 200],  \n",
    "    'learning_rate': [0.01, 0.1, 1],\n",
    "    'max_depth': [3, 5, 10]\n",
    "}\n",
    "\n",
    "param_grid_svc = {\n",
    "    'C': [0.01, 0.1, 1, 10, 100],\n",
    "    'gamma': [0.001, 0.01, 0.1, 1, 10]\n",
    "}\n",
    "\n",
    "# Initialize classifiers with class weight balancing\n",
    "rf = RandomForestClassifier(random_state=42, class_weight='balanced')\n",
    "gb = GradientBoostingClassifier(random_state=42)\n",
    "svc = SVC(random_state=42, class_weight='balanced')\n",
    "\n",
    "# Initialize GridSearchCV for each model\n",
    "grid_search_rf = GridSearchCV(estimator=rf, param_grid=param_grid_rf, cv=StratifiedKFold(n_splits=5), scoring='f1')\n",
    "grid_search_gb = GridSearchCV(estimator=gb, param_grid=param_grid_gb, cv=StratifiedKFold(n_splits=5), scoring='f1')\n",
    "grid_search_svc = GridSearchCV(estimator=svc, param_grid=param_grid_svc, cv=StratifiedKFold(n_splits=5), scoring='f1')\n",
    "\n",
    "# Perform grid search for each model\n",
    "grid_search_rf.fit(X_train, y_train)\n",
    "grid_search_gb.fit(X_train, y_train)\n",
    "grid_search_svc.fit(X_train, y_train)\n",
    "\n",
    "# Get the best parameters for each model\n",
    "best_params_rf = grid_search_rf.best_params_\n",
    "best_params_gb = grid_search_gb.best_params_\n",
    "best_params_svc = grid_search_svc.best_params_\n",
    "print(\"Best Parameters for Random Forest:\", best_params_rf)\n",
    "print(\"Best Parameters for Gradient Boosting:\", best_params_gb)\n",
    "print(\"Best Parameters for Support Vector Machine:\", best_params_svc)\n",
    "\n",
    "# Use the best models for prediction\n",
    "best_model_rf = grid_search_rf.best_estimator_\n",
    "best_model_gb = grid_search_gb.best_estimator_\n",
    "best_model_svc = grid_search_svc.best_estimator_\n",
    "\n",
    "y_pred_rf = best_model_rf.predict(X_test)\n",
    "y_pred_gb = best_model_gb.predict(X_test)\n",
    "y_pred_svc = best_model_svc.predict(X_test)\n",
    "\n",
    "# Evaluate the models\n",
    "print(\"Classification Report for Random Forest:\")\n",
    "print(classification_report(y_test, y_pred_rf))\n",
    "print(\"Classification Report for Gradient Boosting:\")\n",
    "print(classification_report(y_test, y_pred_gb))\n",
    "print(\"Classification Report for Support Vector Machine:\")\n",
    "print(classification_report(y_test, y_pred_svc))\n"
   ]
  },
  {
   "cell_type": "code",
   "execution_count": 45,
   "metadata": {},
   "outputs": [
    {
     "name": "stdout",
     "output_type": "stream",
     "text": [
      "Feature Importance for Random Forest:\n",
      "Feature org_id: 0.2816941257326722\n",
      "Feature creation_month: 0.24901550913344836\n",
      "Feature creation_year: 0.22240630882842558\n",
      "Feature creation_hour: 0.09611786004719584\n",
      "Feature creation_day_of_week: 0.046209402294070376\n",
      "Feature creation_source_GUEST_INVITE: 0.02528835085542306\n",
      "Feature creation_source_SIGNUP: 0.019208207695747093\n",
      "Feature opted_in_to_mailing_list: 0.01629558818465806\n",
      "Feature enabled_for_marketing_drip: 0.01285533304796971\n",
      "Feature creation_source_SIGNUP_GOOGLE_AUTH: 0.011075796461934727\n",
      "Feature creation_source_PERSONAL_PROJECTS: 0.010098528496964387\n",
      "Feature creation_source_ORG_INVITE: 0.009734989221490532\n",
      "\n",
      "Feature Importance for Gradient Boosting:\n",
      "Feature org_id: 0.3854574986431307\n",
      "Feature creation_hour: 0.18872535658174866\n",
      "Feature creation_month: 0.13252584943675638\n",
      "Feature creation_day_of_week: 0.09848132032060282\n",
      "Feature creation_year: 0.05703669154334483\n",
      "Feature creation_source_GUEST_INVITE: 0.02773848262503686\n",
      "Feature creation_source_ORG_INVITE: 0.02260410294494782\n",
      "Feature opted_in_to_mailing_list: 0.01924756822482754\n",
      "Feature creation_source_SIGNUP: 0.01866697388591994\n",
      "Feature creation_source_PERSONAL_PROJECTS: 0.017389374304731597\n",
      "Feature enabled_for_marketing_drip: 0.01707913704944357\n",
      "Feature creation_source_SIGNUP_GOOGLE_AUTH: 0.015047644439509185\n"
     ]
    }
   ],
   "source": [
    "# Calculate feature importance\n",
    "feature_importance_rf = best_model_rf.feature_importances_\n",
    "feature_importance_gb = best_model_gb.feature_importances_\n",
    "\n",
    "# Sort feature importances for Random Forest\n",
    "sorted_importance_rf = sorted(zip(X.columns, feature_importance_rf), key=lambda x: x[1], reverse=True)\n",
    "\n",
    "# Print feature importance for Random Forest\n",
    "print(\"Feature Importance for Random Forest:\")\n",
    "for feature, importance in sorted_importance_rf:\n",
    "    print(f\"Feature {feature}: {importance}\")\n",
    "\n",
    "# Sort feature importances for Gradient Boosting\n",
    "sorted_importance_gb = sorted(zip(X.columns, feature_importance_gb), key=lambda x: x[1], reverse=True)\n",
    "\n",
    "# Print feature importance for Gradient Boosting\n",
    "print(\"\\nFeature Importance for Gradient Boosting:\")\n",
    "for feature, importance in sorted_importance_gb:\n",
    "    print(f\"Feature {feature}: {importance}\")\n"
   ]
  },
  {
   "cell_type": "markdown",
   "metadata": {},
   "source": [
    "## Notes and Conclusion"
   ]
  },
  {
   "cell_type": "markdown",
   "metadata": {},
   "source": [
    "### Enhanced Analysis and Considerations:\n",
    "\n",
    "1. **Adopted Users Identification**:\n",
    "   - The process to identify adopted users relies on examining login data within seven-day periods, categorically labeling users as 'adopted' if they logged in three or more times within any of these periods. This methodological precision ensures a clear distinction between engaged and less engaged users.\n",
    "\n",
    "2. **Data Preparation**:\n",
    "   - Dropping the `time_stamp` column after identifying adopted users simplifies the dataset and focuses the analysis on user attributes rather than temporal login patterns. Similarly, converting `creation_time` to extract creation hour, day of the week, month, and year before dropping the original timestamp further refines the dataset for analysis, emphasizing the importance of account creation timing over the specific login dates.\n",
    "\n",
    "3. **Feature Engineering and Model Preparation**:\n",
    "   - The transformation of `creation_source` into dummy variables allows for a granular analysis of the impact of different account creation sources on user adoption.\n",
    "   - By eliminating duplicates based on `user_id`, the analysis ensures that each user's data contributes only once, providing a clearer picture of the user base.\n",
    "\n",
    "4. **Modeling and Predictive Analysis**:\n",
    "   - The adoption of machine learning models (Random Forest, Gradient Boosting, and Support Vector Machine) with class weights balanced addresses the imbalance in adopted versus non-adopted users, ensuring fair representation in the predictive analysis.\n",
    "   - The use of GridSearchCV for hyperparameter tuning across different models emphasizes the methodical approach to identifying the most effective predictive model parameters.\n",
    "\n",
    "5. **Insights from Model Performance**:\n",
    "   - The Gradient Boosting model showed the highest accuracy among the tested models, suggesting it is the most effective at predicting user adoption based on the given features. However, its performance in distinguishing between adopted and non-adopted users, as seen in the precision and recall for the minority class (adopted users), indicates room for improvement.\n",
    "   - The relatively low precision and recall for identifying adopted users across all models highlight the challenge of predicting user adoption, suggesting that additional or different features may be necessary for improving model performance.\n",
    "\n",
    "6. **Feature Importance:**\n",
    "   - For Random Forest: The organization ID (org_id), creation month, and creation year were the top three features, indicating that the organizational context and timing of account creation play significant roles in predicting user adoption. Interestingly, the creation hour and day of the week also contributed to the model's predictive power, suggesting that the time of account setup could influence user engagement.\n",
    "   - For Gradient Boosting: Similar to Random Forest, org_id and temporal features (creation hour, month, and day of the week) were highly influential, with org_id being even more dominant in this model. This underscores the importance of organizational dynamics and specific time slots for account creation in user adoption.\n",
    "\n",
    "7. **Recommendations and Future Directions**:\n",
    "   - The findings from machine learning model evaluations underline the complexity of predicting user adoption. Future analyses could explore additional user behavior metrics, such as the frequency of certain actions within the app or engagement with specific features, to enhance predictive accuracy.\n",
    "   - Incorporating user feedback or qualitative data through natural language processing could also offer deeper insights into user engagement and potential predictors of adoption.\n",
    "\n",
    "### Conclusion Revision:\n",
    "\n",
    "This analysis has systematically identified factors influencing user adoption, using a combination of user activity patterns, account creation sources, and advanced predictive modeling. Although the Gradient Boosting model demonstrated the highest overall accuracy, the challenge of accurately predicting adopted users highlights the need for a more nuanced understanding of user engagement and behavior. Future strategies to increase user adoption should not only focus on optimizing account creation sources but also consider broader engagement strategies that encourage active participation and sustained interest in the product. Further research incorporating additional behavioral data and qualitative insights could provide a more comprehensive view of the drivers of user adoption."
   ]
  }
 ],
 "metadata": {
  "kernelspec": {
   "display_name": "env",
   "language": "python",
   "name": "python3"
  },
  "language_info": {
   "codemirror_mode": {
    "name": "ipython",
    "version": 3
   },
   "file_extension": ".py",
   "mimetype": "text/x-python",
   "name": "python",
   "nbconvert_exporter": "python",
   "pygments_lexer": "ipython3",
   "version": "3.10.2"
  }
 },
 "nbformat": 4,
 "nbformat_minor": 2
}
